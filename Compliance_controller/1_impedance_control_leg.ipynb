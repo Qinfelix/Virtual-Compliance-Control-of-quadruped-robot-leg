{
 "cells": [
  {
   "cell_type": "markdown",
   "metadata": {},
   "source": [
    "Yue write this code at 2023/08/10\n",
    "\n",
    "The aim is to realize the virtual compliance control of the leg motion."
   ]
  },
  {
   "cell_type": "markdown",
   "metadata": {},
   "source": [
    "# mathmatic\n",
    "\n",
    "some calculation test to verify our mathmatic formula"
   ]
  },
  {
   "cell_type": "code",
   "execution_count": null,
   "metadata": {},
   "outputs": [],
   "source": [
    "import numpy as np\n",
    "import math\n",
    "from math import sin,cos,pi\n",
    "import matplotlib.pyplot as plt\n",
    "L=80"
   ]
  },
  {
   "cell_type": "code",
   "execution_count": null,
   "metadata": {},
   "outputs": [],
   "source": [
    "def Jocobi(theta0,theta1):\n",
    "    J=np.array([[-L*sin(theta0),L*sin(theta1)],[L*cos(theta0),L*cos(theta1)]])\n",
    "    return J\n",
    "J=Jocobi(pi/4,pi/4)\n",
    "print(J)"
   ]
  },
  {
   "cell_type": "code",
   "execution_count": null,
   "metadata": {},
   "outputs": [],
   "source": [
    "a=np.array([[1,2],[3,4]])\n",
    "b=np.array([1,2])\n",
    "c=np.dot(a.T,b)\n",
    "print(c)"
   ]
  },
  {
   "cell_type": "code",
   "execution_count": null,
   "metadata": {},
   "outputs": [],
   "source": [
    "F=np.array([1,0])\n",
    "print(F.shape)\n",
    "tau=np.dot(J.T,F) \n",
    "print(tau)"
   ]
  },
  {
   "cell_type": "code",
   "execution_count": null,
   "metadata": {},
   "outputs": [],
   "source": [
    "ORIGIN_POS=[0.177-0.25,0.041+0.25]\n",
    "\n",
    "def motor_pos_at(x,y):\n",
    "    ad=np.sqrt(x**2+y**2)\n",
    "\n",
    "    if ad>=2*LEG or ad<=0 or y<0:\n",
    "        print('Error:position out of reach')\n",
    "        return ORIGIN_POS\n",
    "    else:\n",
    "        beta=math.acos(ad/(2*LEG))%math.pi\n",
    "        \n",
    "        if x==0:\n",
    "            alpha=math.pi/2\n",
    "        else:\n",
    "            alpha=math.atan(y/x)%math.pi\n",
    "\n",
    "        theta0=alpha-beta\n",
    "        theta1=alpha+beta\n",
    "\n",
    "        pos_0=ORIGIN_POS[0]+theta0/(2*math.pi)\n",
    "        pos_1=ORIGIN_POS[1]-theta1/(2*math.pi)\n",
    "\n",
    "        return pos_0,pos_1\n",
    "    \n",
    "def get_end_pos(encoder0,encoder1):\n",
    "    theta0=(encoder0-ORIGIN_POS[0])*2*pi\n",
    "    theta1=(encoder1-ORIGIN_POS[1]-0.5)*2*pi\n",
    "    alpha=(theta0+theta1)/2\n",
    "    beta=(theta1-theta0)/2\n",
    "    x=2*L*sin(alpha)*sin(beta)\n",
    "    y=2*L*sin(alpha)*cos(beta)\n",
    "    return x,y\n",
    "\n",
    "pos0,pos1=motor_pos_at(10,50)\n",
    "print(get_end_pos(pos0,pos1))"
   ]
  },
  {
   "cell_type": "markdown",
   "metadata": {},
   "source": [
    "# control"
   ]
  },
  {
   "cell_type": "code",
   "execution_count": 1,
   "metadata": {},
   "outputs": [],
   "source": [
    "import odrive\n",
    "from odrive.enums import *\n",
    "import time\n",
    "import math\n",
    "from math import sin,cos,pi\n",
    "import matplotlib.pyplot as plt\n",
    "from scipy.signal import butter,filtfilt\n",
    "from IPython.display import clear_output\n",
    "import numpy as np\n",
    "import serial\n",
    "import pickle\n",
    "from controller import COMPLIANCE_CONTROLLER,POSITION_CONTROLLER\n",
    "def check(my_drive):\n",
    "    if my_drive.axis1.error == 0:\n",
    "        print('Everything is fine')\n",
    "    else:\n",
    "        print('Error!')\n"
   ]
  },
  {
   "cell_type": "code",
   "execution_count": 2,
   "metadata": {},
   "outputs": [
    {
     "name": "stdout",
     "output_type": "stream",
     "text": [
      "finding an odrive...\n",
      "Found! and the bus voltage is 28.166015625V\n",
      "80.16718292236328 82.6633529663086\n",
      "4.0 4.0\n",
      "Everything is fine\n",
      "**************************************************\n"
     ]
    }
   ],
   "source": [
    "# Find a connected ODrive (this will block until you connect one)\n",
    "print(\"finding an odrive...\")\n",
    "my_drive = odrive.find_any()\n",
    "print(\"Found! and the bus voltage is \" + str(my_drive.vbus_voltage) + \"V\")\n",
    "print(my_drive.axis0.motor.current_control.i_gain,my_drive.axis1.motor.current_control.i_gain)\n",
    "my_drive.axis1.motor.current_control.i_gain = 4\n",
    "my_drive.axis0.motor.current_control.i_gain = 4\n",
    "print(my_drive.axis0.motor.current_control.i_gain,my_drive.axis1.motor.current_control.i_gain)\n",
    "\n",
    "\n",
    "my_drive.axis1.requested_state = AXIS_STATE_CLOSED_LOOP_CONTROL\n",
    "my_drive.axis0.requested_state = AXIS_STATE_CLOSED_LOOP_CONTROL\n",
    "\n",
    "\n",
    "check(my_drive)\n",
    "print('*'*50)\n"
   ]
  },
  {
   "cell_type": "code",
   "execution_count": 5,
   "metadata": {},
   "outputs": [
    {
     "name": "stdout",
     "output_type": "stream",
     "text": [
      "enable_uart = True (bool)\n",
      "uart_baudrate = 115200 (int)\n",
      "enable_i2c_instead_of_can = False (bool)\n",
      "enable_ascii_protocol_on_usb = True (bool)\n",
      "max_regen_current = 0.05000000074505806 (float)\n",
      "brake_resistance = 0.550000011920929 (float)\n",
      "dc_bus_undervoltage_trip_level = 8.0 (float)\n",
      "dc_bus_overvoltage_trip_level = 59.92000198364258 (float)\n",
      "enable_dc_bus_overvoltage_ramp = False (bool)\n",
      "dc_bus_overvoltage_ramp_start = 59.92000198364258 (float)\n",
      "dc_bus_overvoltage_ramp_end = 59.92000198364258 (float)\n",
      "dc_max_positive_current = inf (float)\n",
      "dc_max_negative_current = -0.10000000149011612 (float)\n",
      "gpio1_pwm_mapping:\n",
      "  endpoint = (0, 0) (RemoteProperty)\n",
      "  min = 0.0 (float)\n",
      "  max = 0.0 (float)\n",
      "gpio2_pwm_mapping:\n",
      "  endpoint = (0, 0) (RemoteProperty)\n",
      "  min = 0.0 (float)\n",
      "  max = 0.0 (float)\n",
      "gpio3_pwm_mapping:\n",
      "  endpoint = (0, 0) (RemoteProperty)\n",
      "  min = 0.0 (float)\n",
      "  max = 0.0 (float)\n",
      "gpio4_pwm_mapping:\n",
      "  endpoint = (0, 0) (RemoteProperty)\n",
      "  min = 0.0 (float)\n",
      "  max = 0.0 (float)\n",
      "gpio3_analog_mapping:\n",
      "  endpoint = (0, 0) (RemoteProperty)\n",
      "  min = 0.0 (float)\n",
      "  max = 0.0 (float)\n",
      "gpio4_analog_mapping:\n",
      "  endpoint = (0, 0) (RemoteProperty)\n",
      "  min = 0.0 (float)\n",
      "  max = 0.0 (float)\n"
     ]
    }
   ],
   "source": [
    "print(my_drive.motor.config)"
   ]
  },
  {
   "cell_type": "code",
   "execution_count": 10,
   "metadata": {},
   "outputs": [
    {
     "name": "stdout",
     "output_type": "stream",
     "text": [
      "1.0 1.0\n"
     ]
    }
   ],
   "source": [
    "print(my_drive.axis0.motor.config.torque_constant,my_drive.axis1.motor.config.torque_constant)\n",
    "my_drive.axis0.controller.config.control_mode=1\n",
    "my_drive.axis1.controller.config.control_mode=1"
   ]
  },
  {
   "cell_type": "code",
   "execution_count": null,
   "metadata": {},
   "outputs": [],
   "source": [
    "# get the load_Cell initail value\n",
    "ser = serial.Serial(  # 下面这些参数根据情况修改\n",
    "  port='COM4',# 串口\n",
    "  baudrate=57600,# 波特率\n",
    "  parity=serial.PARITY_ODD,\n",
    "  stopbits=serial.STOPBITS_TWO,\n",
    "  bytesize=serial.SEVENBITS\n",
    ")\n",
    "\n",
    "# my_drive.axis1.controller.config.control_mode = 3\n",
    "# my_drive.axis1.controller.input_pos=94/360\n",
    "time.sleep(1)\n",
    "\n",
    "#read the initial value of now\n",
    "t0=time.monotonic()\n",
    "delta=0\n",
    "while delta<5:\n",
    "  delta=time.monotonic()-t0\n",
    "  data = ser.readline()\n",
    "#   clear_output()\n",
    "  try:\n",
    "    print(int(data))\n",
    "    cell_ini=int(data)\n",
    "  except:\n",
    "    print(data)\n",
    "\n",
    "print('initial value of load cell',cell_ini)"
   ]
  },
  {
   "cell_type": "markdown",
   "metadata": {},
   "source": [
    "## static test\n",
    "\n",
    "just use the load cell to test the force output and compare to the force it supposed to be as a compliance part. Only on one static position\n"
   ]
  },
  {
   "cell_type": "code",
   "execution_count": null,
   "metadata": {},
   "outputs": [],
   "source": [
    "K=2.09e-5#unit: N\n",
    "all_time=[]\n",
    "all_virtual_force=[]\n",
    "all_input=[]\n",
    "all_measured_force=[]\n",
    "all_pos=[]\n",
    "max_current=100\n",
    "\n",
    "\n",
    "sample_num=0\n",
    "\n",
    "t0=time.monotonic()\n",
    "delta=time.monotonic()-t0\n",
    "\n",
    "\n",
    "while delta<15:\n",
    "    delta=time.monotonic()-t0\n",
    "    pos_mea=[my_drive.axis0.encoder.pos_circular,my_drive.axis1.encoder.pos_circular]\n",
    "    J=Jocobi(pos_mea[0],pos_mea[1])\n",
    "    \n",
    "    #controller\n",
    "    virtual_force=[-abs(4*sin(delta-0.5)),0]#unit N\n",
    "    motor_torque=np.dot(J.T,virtual_force)\n",
    "    motor_input=[]\n",
    "    for i in range(2):\n",
    "        if motor_torque[i]>0:\n",
    "            motor_input.append(min(motor_torque[i]/TORQUE_CONSTANT,max_current))\n",
    "        else:\n",
    "            motor_input.append(max(motor_torque[i]/TORQUE_CONSTANT,-max_current))\n",
    "    my_drive.axis0.controller.input_torque = motor_input[0]\n",
    "    my_drive.axis1.controller.input_torque = motor_input[1]\n",
    "\n",
    "    #read the load cell\n",
    "    load_cell = ser.readline() #will stuck here until receive data--so its frequency determine the whole test system frequency\n",
    "    try:\n",
    "        int(load_cell)\n",
    "        measured_force=(int(load_cell)-cell_ini)*K\n",
    "    except:\n",
    "        measured_force=0\n",
    "\n",
    "    #record data\n",
    "    all_time.append(delta)\n",
    "    all_input.append(motor_input)\n",
    "    all_virtual_force.append(virtual_force)\n",
    "    all_measured_force.append(measured_force)\n",
    "    all_pos.append(pos_mea)\n",
    "    \n",
    "    #display the data\n",
    "    sample_num+=1\n",
    "    if sample_num%5==0:\n",
    "        clear_output()\n",
    "        print('VIRTUAL_FORCE: {} \\nMOTOR INPUT: {} \\nMEASURED_FORCE: {}'.format(virtual_force,motor_input,measured_force))\n",
    "        check(my_drive)\n",
    "\n",
    "my_drive.axis0.controller.input_torque = 0\n",
    "my_drive.axis1.controller.input_torque = 0\n",
    "check(my_drive)\n",
    "\n",
    "test_data=[all_time,all_input,all_virtual_force,all_measured_force]\n",
    "filepath='./test/virtual_force_static_with_end_at_{:.1f}_{:.1f}.pkl'.format(get_end_pos(all_pos[-1][0],all_pos[-1][1])[0],get_end_pos(all_pos[-1][0],all_pos[-1][1])[1])\n",
    "pickle.dump(test_data,open(filepath,'wb'))\n"
   ]
  },
  {
   "cell_type": "code",
   "execution_count": null,
   "metadata": {},
   "outputs": [],
   "source": [
    "all_virtual_force_x=-np.array(all_virtual_force)[:,0]\n",
    "all_virtual_force_y=-np.array(all_virtual_force)[:,1]\n",
    "\n",
    "plt.plot(all_time,all_virtual_force_x,linewidth=3,label='virtual force_x')\n",
    "plt.plot(all_time,all_virtual_force_y,linewidth=3,label='virtual force_y')\n",
    "\n",
    "plt.plot(all_time,all_measured_force,linewidth=3,linestyle='dashed',label='measured_force')\n",
    "plt.xlabel('time(s)')\n",
    "plt.ylabel('force(N)')\n",
    "plt.title('end position: x={:.2f} y={:.2f}'.format(get_end_pos(all_pos[-1][0],all_pos[-1][1])[0],get_end_pos(all_pos[-1][0],all_pos[-1][1])[1]))\n",
    "plt.legend()\n",
    "plt.ylim(0,6)\n",
    "plt.show()\n",
    "\n"
   ]
  },
  {
   "cell_type": "markdown",
   "metadata": {},
   "source": [
    "## dynamic test\n",
    "\n",
    "almost the same with static test, but I mannually change the position to get the relationship between output force and position to verify the compliance"
   ]
  },
  {
   "cell_type": "code",
   "execution_count": 11,
   "metadata": {},
   "outputs": [
    {
     "name": "stdout",
     "output_type": "stream",
     "text": [
      "STIFFNESS:[0.1, 0.1] \n",
      "REF_POSITION:[ 10 100] \n",
      "MEASURED POSITION: [ 11.6 114. ] \n",
      "MOTOR INPUT: [-21.4 -21.9] \n",
      "CONTROL FREQUENCTY: 226.23377490073037\n",
      "SPEED: [-0.6 -2.8]\n",
      "Everything is fine\n"
     ]
    }
   ],
   "source": [
    "# control the end stay at the origin point\n",
    "# letsgo(motor_pos_at(0,100),2)\n",
    "print('ready to do the compliance control')\n",
    "time.sleep(2)\n",
    "\n",
    "my_drive.axis0.controller.config.control_mode=1\n",
    "my_drive.axis1.controller.config.control_mode=1\n",
    "\n",
    "controller=COMPLIANCE_CONTROLLER([0.1,0.1],[3e-3,3e-3])\n",
    "\n",
    "K=2.09e-5#unit: N\n",
    "ref_pos=[10,100]\n",
    "\n",
    "all_time=[]\n",
    "all_pos=[]\n",
    "all_input=[]\n",
    "all_speed=[]\n",
    "sample_num=0\n",
    "\n",
    "t0=time.monotonic()\n",
    "time.sleep(0.1)\n",
    "delta=time.monotonic()-t0\n",
    "\n",
    "while delta<30:\n",
    "    #controller\n",
    "    delta,measured_pos,speed,motor_input=controller.control(my_drive,ref_pos,all_pos,all_time,t0)\n",
    "\n",
    "    #record data\n",
    "    all_time.append(delta)\n",
    "    all_pos.append(measured_pos)\n",
    "    all_input.append(motor_input)\n",
    "    all_speed.append(speed)\n",
    "\n",
    "    #display the data\n",
    "    sample_num+=1\n",
    "    if sample_num%20==0:\n",
    "        clear_output()\n",
    "        print('STIFFNESS:{} \\nREF_POSITION:{} \\nMEASURED POSITION: {} \\nMOTOR INPUT: {} \\nCONTROL FREQUENCTY: {}'\n",
    "              .format(controller.stiffness,np.around(ref_pos,decimals=1),np.around(measured_pos,decimals=1)\n",
    "                      ,np.around(motor_input,decimals=1),sample_num/delta))\n",
    "        print('SPEED: {}'.format(np.around(speed,decimals=1)))\n",
    "        check(my_drive)\n",
    "\n",
    "\n",
    "test_data=[all_time,all_pos,all_input]\n",
    "filepath='./test/leg_impedance_control_at_{}with_k={}.pkl'.format(ref_pos,controller.stiffness)\n",
    "pickle.dump(test_data,open(filepath,'wb'))"
   ]
  },
  {
   "cell_type": "code",
   "execution_count": null,
   "metadata": {},
   "outputs": [],
   "source": [
    "my_drive.axis0.controller.input_torque = 0\n",
    "my_drive.axis1.controller.input_torque = 0"
   ]
  },
  {
   "cell_type": "code",
   "execution_count": null,
   "metadata": {},
   "outputs": [],
   "source": [
    "all_speed_array_x=np.array(all_speed)[:,0]\n",
    "all_speed_array_y=np.array(all_speed)[:,1]\n",
    "\n",
    "plt.plot(all_time,all_speed_array_x,label='x')\n",
    "plt.plot(all_time,all_speed_array_y,label='y')\n",
    "plt.legend()\n",
    "plt.xlabel('time(s)')\n",
    "plt.ylabel('end speed(mm/s)')\n",
    "# plt.xlim(80,90)\n",
    "plt.show()"
   ]
  },
  {
   "cell_type": "code",
   "execution_count": null,
   "metadata": {},
   "outputs": [],
   "source": [
    "all_pos_array_x=np.array(all_pos)[:,0]\n",
    "all_pos_array_y=np.array(all_pos)[:,1]\n",
    "\n",
    "plt.plot(all_time,all_pos_array_x,label='x')\n",
    "plt.plot(all_time,all_pos_array_y,label='y')\n",
    "plt.legend()\n",
    "plt.xlabel('time(s)')\n",
    "plt.ylabel('end position(mm)')\n",
    "# plt.xlim(10,20)\n",
    "plt.show()"
   ]
  },
  {
   "cell_type": "markdown",
   "metadata": {},
   "source": [
    "### plot measured force and virtual force``"
   ]
  },
  {
   "cell_type": "code",
   "execution_count": null,
   "metadata": {},
   "outputs": [],
   "source": [
    "\n",
    "print('control fre={}'.format(len(all_time)/all_time[-1]))\n",
    "print(all_pos[0],all_input[0])\n",
    "all_elongation=np.array(all_pos)[:,0]-desired_end_pos[0]\n",
    "plt.scatter(all_elongation,all_measured_force,s=15,label='measured force')\n",
    "\n",
    "all_supposed_force=all_elongation*end_stiffness[0]\n",
    "plt.plot(all_elongation,all_supposed_force,'r',label='virtual spring force')\n",
    "\n",
    "plt.title('stiffness={} desired_pos={}'.format(end_stiffness,desired_end_pos))\n",
    "plt.ylabel('measured force(N)')\n",
    "plt.xlabel('end position error x(mm)')\n",
    "plt.legend()\n",
    "plt.ylim(-1,5)\n",
    "plt.show()\n"
   ]
  },
  {
   "cell_type": "code",
   "execution_count": null,
   "metadata": {},
   "outputs": [],
   "source": [
    "all_input_array=np.array(all_input)\n",
    "all_supposed_input_array=np.array(all_supposed_torque)/3.6\n",
    "plt.plot(all_time,all_input_array[:,0],label='AXIS0 input')\n",
    "plt.plot(all_time,all_supposed_input_array[:,0],label='AXIS0 supposed input')\n",
    "plt.title('stiffness={} desired_pos={}'.format(end_stiffness,desired_end_pos))\n",
    "plt.ylabel('motor input current(A/100)')\n",
    "plt.xlabel('time(s)')\n",
    "# plt.xlim(18,22)\n",
    "plt.legend()\n",
    "plt.show()\n"
   ]
  }
 ],
 "metadata": {
  "kernelspec": {
   "display_name": "odrive2",
   "language": "python",
   "name": "python3"
  },
  "language_info": {
   "codemirror_mode": {
    "name": "ipython",
    "version": 3
   },
   "file_extension": ".py",
   "mimetype": "text/x-python",
   "name": "python",
   "nbconvert_exporter": "python",
   "pygments_lexer": "ipython3",
   "version": "3.9.17"
  },
  "orig_nbformat": 4
 },
 "nbformat": 4,
 "nbformat_minor": 2
}
