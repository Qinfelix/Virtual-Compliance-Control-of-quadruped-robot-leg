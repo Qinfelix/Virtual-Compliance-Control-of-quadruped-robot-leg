{
 "cells": [
  {
   "cell_type": "markdown",
   "metadata": {},
   "source": [
    "Yue write this code at 2023/08/01 to control two motors with one ODRIVE at the same time\n",
    "\n",
    "Try to control speed/torque/position all\n"
   ]
  },
  {
   "cell_type": "code",
   "execution_count": 9,
   "metadata": {},
   "outputs": [],
   "source": [
    "## connection and calibration\n",
    "import odrive\n",
    "from odrive.enums import *\n",
    "import time\n",
    "import math\n",
    "import matplotlib.pyplot as plt\n",
    "from scipy.signal import butter,filtfilt\n",
    "from IPython.display import clear_output\n",
    "import numpy as np\n",
    "import serial\n",
    "\n",
    "def check(my_drive):\n",
    "    if my_drive.axis1.error == 0:\n",
    "        print('Everything is fine')\n",
    "    else:\n",
    "        print('Error!')"
   ]
  },
  {
   "cell_type": "code",
   "execution_count": 10,
   "metadata": {},
   "outputs": [
    {
     "name": "stdout",
     "output_type": "stream",
     "text": [
      "finding an odrive...\n",
      "Found! and the bus voltage is 22.440967559814453V\n",
      "80.16718292236328 82.6633529663086\n",
      "4.0 4.0\n",
      "Everything is fine\n",
      "**************************************************\n"
     ]
    }
   ],
   "source": [
    "# Find a connected ODrive (this will block until you connect one)\n",
    "print(\"finding an odrive...\")\n",
    "my_drive = odrive.find_any()\n",
    "print(\"Found! and the bus voltage is \" + str(my_drive.vbus_voltage) + \"V\")\n",
    "print(my_drive.axis0.motor.current_control.i_gain,my_drive.axis1.motor.current_control.i_gain)\n",
    "my_drive.axis1.motor.current_control.i_gain = 4\n",
    "my_drive.axis0.motor.current_control.i_gain = 4\n",
    "print(my_drive.axis0.motor.current_control.i_gain,my_drive.axis1.motor.current_control.i_gain)\n",
    "\n",
    "\n",
    "# calibration and enter closed control mode\n",
    "# print(\"starting calibration...\")\n",
    "# my_drive.axis1.requested_state = AXIS_STATE_FULL_CALIBRATION_SEQUENCE\n",
    "# while my_drive.axis1.current_state != AXIS_STATE_IDLE:\n",
    "#     time.sleep(0.1)\n",
    "# check(my_drive)\n",
    "# my_drive.axis1.motor.config.pre_calibrated = True\n",
    "# my_drive.axis1.encoder.config.pre_calibrated =True\n",
    "my_drive.axis1.requested_state = AXIS_STATE_CLOSED_LOOP_CONTROL\n",
    "my_drive.axis0.requested_state = AXIS_STATE_CLOSED_LOOP_CONTROL\n",
    "\n",
    "\n",
    "check(my_drive)\n",
    "print('*'*50)\n"
   ]
  },
  {
   "cell_type": "code",
   "execution_count": 11,
   "metadata": {},
   "outputs": [
    {
     "name": "stdout",
     "output_type": "stream",
     "text": [
      "1.0 1.0\n",
      "vel_gain and pos_gain of AXIS0 is 8.0 20.0\n",
      "vel_gain and pos_gain of AXIS1 is 8.0 20.0\n"
     ]
    }
   ],
   "source": [
    "# my_drive.axis1.motor.config.torque_constant = 1\n",
    "print(my_drive.axis0.motor.config.torque_constant,my_drive.axis1.motor.config.torque_constant)\n",
    "# my_drive.axis0.controller.config.pos_gain = 20\n",
    "# my_drive.axis1.controller.config.pos_gain = 20\n",
    "print('vel_gain and pos_gain of AXIS0 is',my_drive.axis0.controller.config.vel_gain,my_drive.axis0.controller.config.pos_gain)\n",
    "print('vel_gain and pos_gain of AXIS1 is',my_drive.axis1.controller.config.vel_gain,my_drive.axis1.controller.config.pos_gain)\n",
    "# my_drive.save_configuration()\n"
   ]
  },
  {
   "cell_type": "code",
   "execution_count": null,
   "metadata": {},
   "outputs": [],
   "source": [
    "#torque control meantime\n",
    "my_drive.axis1.controller.config.control_mode = 1\n",
    "my_drive.axis0.controller.config.control_mode = 1\n",
    "\n",
    "t0=time.monotonic()\n",
    "delta=0\n",
    "while delta<12:\n",
    "    delta=time.monotonic()-t0\n",
    "    input=delta/2\n",
    "    my_drive.axis1.controller.input_torque = input\n",
    "    my_drive.axis0.controller.input_torque = input\n",
    "    if int(delta*100)%10 == 0:\n",
    "        clear_output()\n",
    "        print('INPUT CURRENT=',input)\n",
    "my_drive.axis1.controller.input_torque = 0\n",
    "my_drive.axis0.controller.input_torque = 0\n",
    "check(my_drive)"
   ]
  },
  {
   "cell_type": "code",
   "execution_count": null,
   "metadata": {},
   "outputs": [],
   "source": [
    "#speed control meantime\n",
    "my_drive.axis1.controller.config.control_mode = 2\n",
    "my_drive.axis0.controller.config.control_mode = 2\n",
    "t0=time.monotonic()\n",
    "delta=0\n",
    "while delta<6:\n",
    "    delta=time.monotonic()-t0\n",
    "    input=delta/2\n",
    "    my_drive.axis1.controller.input_vel = input\n",
    "    my_drive.axis0.controller.input_vel = input\n",
    "    if int(delta*100)%10 == 0:\n",
    "        clear_output()\n",
    "        print('INPUT VELOCITY=',input)\n",
    "my_drive.axis1.controller.input_vel = 0\n",
    "my_drive.axis0.controller.input_vel = 0\n",
    "check(my_drive)"
   ]
  },
  {
   "cell_type": "code",
   "execution_count": 12,
   "metadata": {},
   "outputs": [
    {
     "name": "stdout",
     "output_type": "stream",
     "text": [
      "Everything is fine\n"
     ]
    }
   ],
   "source": [
    "#position control meantime\n",
    "my_drive.axis1.controller.config.control_mode = 3\n",
    "my_drive.axis0.controller.config.control_mode = 3\n",
    "my_drive.axis1.controller.input_pos = 0.04\n",
    "my_drive.axis0.controller.input_pos = 0.4\n",
    "\n",
    "check(my_drive)"
   ]
  },
  {
   "cell_type": "code",
   "execution_count": 13,
   "metadata": {},
   "outputs": [
    {
     "name": "stdout",
     "output_type": "stream",
     "text": [
      "POSITION INPUT \n",
      "AXIS0:22.92 degree \n",
      "AXIS1:2.29 degree\n"
     ]
    }
   ],
   "source": [
    "# sin input\n",
    "t0=time.monotonic()\n",
    "delta=0\n",
    "my_drive.axis1.controller.config.control_mode = 3\n",
    "my_drive.axis0.controller.config.control_mode = 3\n",
    "FREQUENCY = 0.5\n",
    "while delta<8:\n",
    "    delta=time.monotonic()-t0\n",
    "    pos0=0.1*math.sin(delta*2*math.pi*FREQUENCY)+0.4\n",
    "    pos1=0.1*math.sin(delta*2*math.pi*FREQUENCY)+0.04\n",
    "    if delta>4:\n",
    "        FREQUENCY=1\n",
    "    my_drive.axis0.controller.input_pos=pos0\n",
    "    my_drive.axis1.controller.input_pos=pos1\n",
    "    if int(delta*100)%10==0:\n",
    "        clear_output()\n",
    "        print('POSITION INPUT \\nAXIS0:{:.2f} degree \\nAXIS1:{:.2f} degree'.format(pos0*180/math.pi,pos1*180/math.pi))"
   ]
  },
  {
   "cell_type": "code",
   "execution_count": 7,
   "metadata": {},
   "outputs": [
    {
     "name": "stdout",
     "output_type": "stream",
     "text": [
      "Everything is fine\n"
     ]
    }
   ],
   "source": [
    "check(my_drive)"
   ]
  }
 ],
 "metadata": {
  "kernelspec": {
   "display_name": "odrive2",
   "language": "python",
   "name": "python3"
  },
  "language_info": {
   "codemirror_mode": {
    "name": "ipython",
    "version": 3
   },
   "file_extension": ".py",
   "mimetype": "text/x-python",
   "name": "python",
   "nbconvert_exporter": "python",
   "pygments_lexer": "ipython3",
   "version": "3.9.17"
  },
  "orig_nbformat": 4
 },
 "nbformat": 4,
 "nbformat_minor": 2
}
