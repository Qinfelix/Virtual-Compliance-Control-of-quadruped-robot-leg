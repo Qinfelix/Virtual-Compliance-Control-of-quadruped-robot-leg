{
 "cells": [
  {
   "cell_type": "markdown",
   "metadata": {},
   "source": [
    "Yue write the code at 2023/07/23\n",
    "\n",
    "The aim is to test the reponse curve of the motor to a step/sin input with the PID controller in the ODrive firmware itself. And tune the parameter to get a optimal performance in accuracy and response speed\n",
    "\n",
    "All the speed/position/current PID controller is tuned."
   ]
  },
  {
   "cell_type": "markdown",
   "metadata": {},
   "source": [
    "## connection and calibration\n"
   ]
  },
  {
   "cell_type": "code",
   "execution_count": 2,
   "metadata": {},
   "outputs": [],
   "source": [
    "import odrive\n",
    "from odrive.enums import *\n",
    "import time\n",
    "import math\n",
    "import matplotlib.pyplot as plt\n",
    "from scipy.signal import butter,filtfilt\n",
    "from IPython.display import clear_output\n",
    "\n",
    "def check(my_drive):\n",
    "    if my_drive.axis1.error == 0:\n",
    "        print('Everything is fine')\n",
    "    else:\n",
    "        print('Error!')\n",
    "\n",
    "\n",
    "def lowpass_filter(data,cutoff,fs,order):\n",
    "    b,a=butter(order,2*cutoff/fs,btype='low',analog=False)\n",
    "    y=filtfilt(b,a,data)\n",
    "    return y "
   ]
  },
  {
   "cell_type": "code",
   "execution_count": 3,
   "metadata": {},
   "outputs": [
    {
     "name": "stdout",
     "output_type": "stream",
     "text": [
      "finding an odrive...\n",
      "Found! and the bus voltage is 21.26228141784668V\n"
     ]
    }
   ],
   "source": [
    "# Find a connected ODrive (this will block until you connect one)\n",
    "print(\"finding an odrive...\")\n",
    "my_drive = odrive.find_any()\n",
    "print(\"Found! and the bus voltage is \" + str(my_drive.vbus_voltage) + \"V\")\n",
    "\n"
   ]
  },
  {
   "cell_type": "code",
   "execution_count": 4,
   "metadata": {},
   "outputs": [
    {
     "name": "stdout",
     "output_type": "stream",
     "text": [
      "Everything is fine\n"
     ]
    }
   ],
   "source": [
    "# # calibration and enter closed control mode\n",
    "# print(\"starting calibration...\")\n",
    "# my_drive.axis1.requested_state = AXIS_STATE_FULL_CALIBRATION_SEQUENCE\n",
    "# while my_drive.axis1.current_state != AXIS_STATE_IDLE:\n",
    "#     time.sleep(0.1)\n",
    "# check(my_drive)\n",
    "# my_drive.axis1.motor.config.pre_calibrated = True\n",
    "# my_drive.axis1.encoder.config.pre_calibrated =True\n",
    "\n",
    "\n",
    "\n",
    "\n",
    "my_drive.axis1.requested_state = AXIS_STATE_CLOSED_LOOP_CONTROL\n",
    "check(my_drive)"
   ]
  },
  {
   "cell_type": "code",
   "execution_count": 5,
   "metadata": {},
   "outputs": [
    {
     "name": "stdout",
     "output_type": "stream",
     "text": [
      "82.6633529663086\n",
      "2.0\n",
      "8.0\n",
      "20.0\n"
     ]
    }
   ],
   "source": [
    "print(my_drive.axis1.motor.current_control.i_gain)\n",
    "my_drive.axis1.motor.current_control.i_gain = 2\n",
    "print(my_drive.axis1.motor.current_control.i_gain)\n",
    "print(my_drive.axis1.controller.config.vel_gain)\n",
    "print(my_drive.axis1.controller.config.pos_gain)\n",
    "\n"
   ]
  },
  {
   "cell_type": "markdown",
   "metadata": {},
   "source": [
    "## torque control\n"
   ]
  },
  {
   "cell_type": "code",
   "execution_count": 18,
   "metadata": {},
   "outputs": [
    {
     "name": "stdout",
     "output_type": "stream",
     "text": [
      "4.0\n",
      "sample frequency is 408.75\n"
     ]
    },
    {
     "data": {
      "image/png": "[encoded data removed]",
      "text/plain": [
       "<Figure size 640x480 with 1 Axes>"
      ]
     },
     "metadata": {},
     "output_type": "display_data"
    }
   ],
   "source": [
    "# step input with one gain\n",
    "my_drive.axis1.controller.config.control_mode = 1\n",
    "my_drive.axis1.motor.current_control.i_gain=4\n",
    "my_drive.axis1.controller.input_torque = 0\n",
    "t0=time.monotonic()\n",
    "delta=0\n",
    "current = []\n",
    "id=[]\n",
    "time_seq=[]\n",
    "current_setpoint=[]\n",
    "\n",
    "while delta<5:\n",
    "    delta=time.monotonic()-t0\n",
    "    time_seq.append(delta)\n",
    "    current.append(my_drive.axis1.motor.current_control.Iq_measured)\n",
    "    id.append(my_drive.axis1.motor.current_control.Id_measured)\n",
    "    current_setpoint.append(my_drive.axis1.motor.current_control.Iq_setpoint)\n",
    "    if delta>2:\n",
    "        my_drive.axis1.controller.input_torque=4\n",
    "\n",
    "my_drive.axis1.controller.input_torque = 0\n",
    "fs=len(time_seq)/8\n",
    "cutoff=3\n",
    "print('sample frequency is',fs)\n",
    "y = lowpass_filter(current,cutoff,fs,4)\n",
    "y2=lowpass_filter(id,cutoff,fs,4)\n",
    "    \n",
    "plt.plot(time_seq,y,label='measured')\n",
    "plt.plot(time_seq,current_setpoint,label='setpoint')\n",
    "plt.legend()\n",
    "plt.show()\n"
   ]
  },
  {
   "cell_type": "code",
   "execution_count": null,
   "metadata": {},
   "outputs": [],
   "source": [
    "# step input with diffrent gains\n",
    "my_drive.axis1.controller.config.control_mode = 1\n",
    "current_dif_gain=[]\n",
    "time_dif_gain=[]\n",
    "Id_dif_gain=[]\n",
    "dif_gain=[8,4,2,1,0.5]\n",
    "for gain in dif_gain:\n",
    "    my_drive.axis1.motor.current_control.i_gain=gain\n",
    "    print(my_drive.axis1.motor.current_control.i_gain)\n",
    "    t0=time.monotonic()\n",
    "    delta=0\n",
    "    current = []\n",
    "    id=[]\n",
    "    time_seq=[]\n",
    "    current_setpoint=[]\n",
    "\n",
    "    while delta<4:\n",
    "        delta=time.monotonic()-t0\n",
    "        # if delta>3 and delta<5:\n",
    "        time_seq.append(delta)\n",
    "        current.append(my_drive.axis1.motor.current_control.Iq_measured)\n",
    "        id.append(my_drive.axis1.motor.current_control.Id_measured)\n",
    "        # current_phB.append(my_drive.axis1.motor.current_meas_phB)\n",
    "        # current_phC.append(my_drive.axis1.motor.current_meas_phC)\n",
    "        current_setpoint.append(my_drive.axis1.motor.current_control.Iq_setpoint)\n",
    "        # my_drive.axis1.controller.input_torque = delta*2\n",
    "        if delta>2:\n",
    "            my_drive.axis1.controller.input_torque=20\n",
    "    \n",
    "    my_drive.axis1.controller.input_torque = 0\n",
    "    fs=len(time_seq)/8\n",
    "    cutoff=3\n",
    "    print('sample frequency is',fs)\n",
    "    y = lowpass_filter(current,cutoff,fs,4)\n",
    "    y2=lowpass_filter(id,cutoff,fs,4)\n",
    "    current_dif_gain.append(y)\n",
    "    Id_dif_gain.append(y2)\n",
    "    time_dif_gain.append(time_seq)\n",
    "    \n",
    "\n",
    "# plt.plot(time_seq,current,label='measured')\n",
    "# plt.plot(time_seq,current_setpoint,label='setpoint')\n",
    "# plt.legend()\n",
    "# plt.show()\n"
   ]
  },
  {
   "cell_type": "code",
   "execution_count": null,
   "metadata": {},
   "outputs": [],
   "source": [
    "\n",
    "plt.plot(time_dif_gain[-1],current_setpoint,label='setpoint')\n",
    "for i in range(len(dif_gain)):\n",
    "    plt.plot(time_dif_gain[i],current_dif_gain[i],label='gain='+str(dif_gain[i]))\n",
    "plt.legend()\n",
    "plt.ylabel('current(A)')\n",
    "plt.xlabel('time(s)')\n",
    "plt.xlim([1,3])\n",
    "plt.ylim([0,30])\n",
    "plt.show()\n"
   ]
  },
  {
   "cell_type": "code",
   "execution_count": null,
   "metadata": {},
   "outputs": [],
   "source": [
    "# sin input\n",
    "my_drive.axis1.controller.config.control_mode = 1\n",
    "current_dif_gain=[]\n",
    "time_dif_gain=[]\n",
    "Id_dif_gain=[]\n",
    "dif_gain=[1,2,4]\n",
    "f=0.5\n",
    "for gain in dif_gain:\n",
    "    my_drive.axis1.motor.current_control.i_gain=gain\n",
    "    t0=time.monotonic()\n",
    "    delta=0\n",
    "    current = []\n",
    "    id=[]\n",
    "    time_seq=[]\n",
    "    current_setpoint=[]\n",
    "\n",
    "    while delta<2:\n",
    "        delta=time.monotonic()-t0\n",
    "        # if delta>3 and delta<5:\n",
    "        time_seq.append(delta)\n",
    "        current.append(my_drive.axis1.motor.current_control.Iq_measured)\n",
    "        id.append(my_drive.axis1.motor.current_control.Id_measured)\n",
    "        # current_phB.append(my_drive.axis1.motor.current_meas_phB)\n",
    "        # current_phC.append(my_drive.axis1.motor.current_meas_phC)\n",
    "        current_setpoint.append(my_drive.axis1.motor.current_control.Iq_setpoint)\n",
    "        # my_drive.axis1.controller.input_torque = delta*2\n",
    "        setpoint = 5 * math.sin(delta*2*math.pi*f)\n",
    "        print(\"goto \" + str(setpoint))\n",
    "        my_drive.axis1.controller.input_torque = setpoint\n",
    "            \n",
    "    my_drive.axis1.controller.input_torque = 0\n",
    "    fs=len(time_seq)/8\n",
    "    cutoff=3\n",
    "    print('sample frequency is',fs)\n",
    "    y = lowpass_filter(current,cutoff,fs,4)\n",
    "    y2=lowpass_filter(id,cutoff,fs,4)\n",
    "    current_dif_gain.append(y)\n",
    "    Id_dif_gain.append(y2)\n",
    "    time_dif_gain.append(time_seq)\n",
    "    \n",
    "\n",
    "# plt.plot(time_seq,current,label='measured')\n",
    "# plt.plot(time_seq,current_setpoint,label='setpoint')\n",
    "# plt.legend()\n",
    "# plt.show()\n"
   ]
  },
  {
   "cell_type": "code",
   "execution_count": null,
   "metadata": {},
   "outputs": [],
   "source": [
    "\n",
    "plt.plot(time_dif_gain[-1],current_setpoint,label='setpoint')\n",
    "for i in range(len(dif_gain)):\n",
    "    plt.plot(time_dif_gain[i],current_dif_gain[i],label='gain='+str(dif_gain[i]))\n",
    "plt.legend()\n",
    "plt.ylabel('current(A)')\n",
    "plt.xlabel('time(s)')\n",
    "plt.xlim([0,1.5])\n",
    "# plt.ylim([3,6])\n",
    "plt.show()"
   ]
  },
  {
   "cell_type": "markdown",
   "metadata": {},
   "source": [
    "plt.plot(time_seq,lowpass_filter(current_phB,cutoff,fs,4),label='phB_filtered')\n",
    "plt.plot(time_seq,lowpass_filter(current_phC,cutoff,fs,4),label='phC_filtered')\n",
    "plt.plot(time_seq,current_phB,label='phB')\n",
    "plt.plot(time_seq,current_phC,label='phC')\n",
    "plt.legend()\n",
    "plt.show()"
   ]
  },
  {
   "cell_type": "code",
   "execution_count": null,
   "metadata": {},
   "outputs": [],
   "source": [
    "my_drive.save_configuration()\n",
    "check(my_drive)"
   ]
  },
  {
   "cell_type": "markdown",
   "metadata": {},
   "source": [
    "## velocity control\n"
   ]
  },
  {
   "cell_type": "code",
   "execution_count": null,
   "metadata": {},
   "outputs": [],
   "source": [
    "# modify configuration here\n",
    "# my_drive.axis1.controller.config.control_mode = 3\n",
    "# my_drive.axis1.controller.config.vel_gain = 3\n",
    "print(my_drive.axis1.controller)"
   ]
  },
  {
   "cell_type": "markdown",
   "metadata": {},
   "source": [
    "find zero point\n",
    "t0=time.monotonic()\n",
    "delta = 0\n",
    "while delta<80:\n",
    "    delta=time.monotonic()-t0\n",
    "    if int(delta*100)%10==0:\n",
    "        print(my_drive.axis1.encoder.shadow_count )\n"
   ]
  },
  {
   "cell_type": "code",
   "execution_count": null,
   "metadata": {},
   "outputs": [],
   "source": [
    "# veciloty control with different gains\n",
    "my_drive.axis1.controller.config.control_mode = 2\n",
    "\n",
    "\n",
    "\n",
    "time_dif_gain=[]\n",
    "vel_dif_gain=[]\n",
    "set_dif_gain=[]\n",
    "dif_gain=[0.5,1,2,4,8]\n",
    "for gain in dif_gain:\n",
    "    my_drive.axis1.controller.config.vel_gain = gain\n",
    "    # print(my_drive.axis1.controller.config)\n",
    "    t0=time.monotonic()\n",
    "    delta=0\n",
    "    pos_seq = [0]\n",
    "    time_seq=[0]\n",
    "    vel_seq=[0]\n",
    "    pos_setpoint=[0]\n",
    "    vel_setpoint=[0]\n",
    "    cpr=16384\n",
    "\n",
    "    while delta<3:\n",
    "        delta=time.monotonic()-t0\n",
    "        time_seq.append(delta)\n",
    "        pos_seq.append(my_drive.axis1.encoder.pos_circular)#range (0,1) - in turn\n",
    "        pos_setpoint.append(my_drive.axis1.controller.pos_setpoint)\n",
    "        vel_seq.append(my_drive.axis1.encoder.vel_estimate )#unit is turns/s\n",
    "        vel_setpoint.append(my_drive.axis1.controller.vel_setpoint)\n",
    "\n",
    "        if delta>2:\n",
    "            my_drive.axis1.controller.input_vel=0.01\n",
    "\n",
    "    my_drive.axis1.controller.input_vel = 0\n",
    "    time_dif_gain.append(time_seq)\n",
    "    vel_dif_gain.append(vel_seq)\n",
    "    set_dif_gain.append(vel_setpoint)\n",
    "\n"
   ]
  },
  {
   "cell_type": "code",
   "execution_count": null,
   "metadata": {},
   "outputs": [],
   "source": [
    "plt.plot(time_dif_gain[-1],set_dif_gain[-1],label='setpoint')\n",
    "for i in range(len(dif_gain)):\n",
    "    plt.plot(time_dif_gain[i],vel_dif_gain[i],label='gain='+str(dif_gain[i]))\n",
    "plt.legend()\n",
    "plt.ylabel('velocity(turns/s)')\n",
    "plt.xlabel('time(s)')\n",
    "plt.xlim([1,3])\n",
    "plt.ylim([0,5])\n",
    "plt.show()"
   ]
  },
  {
   "cell_type": "code",
   "execution_count": null,
   "metadata": {},
   "outputs": [],
   "source": [
    "# veciloty control with one gain\n",
    "my_drive.axis1.controller.config.control_mode = 1\n",
    "\n",
    "time_dif_gain=[]\n",
    "vel_dif_gain=[]\n",
    "set_dif_gain=[]\n",
    "gain=10\n",
    "\n",
    "my_drive.axis1.controller.config.vel_gain = gain\n",
    "# print(my_drive.axis1.controller.config)\n",
    "t0=time.monotonic()\n",
    "delta=0\n",
    "pos_seq = [0]\n",
    "time_seq=[0]\n",
    "vel_seq=[0]\n",
    "pos_setpoint=[0]\n",
    "vel_setpoint=[0]\n",
    "cpr=16384\n",
    "\n",
    "while delta<3:\n",
    "    delta=time.monotonic()-t0\n",
    "    time_seq.append(delta)\n",
    "    pos_seq.append(my_drive.axis1.encoder.pos_circular)#range (0,1) - in turn\n",
    "    pos_setpoint.append(my_drive.axis1.controller.pos_setpoint)\n",
    "    vel_seq.append(my_drive.axis1.encoder.vel_estimate )#unit is turns/s\n",
    "    vel_setpoint.append(my_drive.axis1.controller.vel_setpoint)\n",
    "\n",
    "    # if delta>2:\n",
    "    #     my_drive.axis1.controller.input_vel=0.1\n",
    "\n",
    "my_drive.axis1.controller.input_vel = 0\n",
    "time_dif_gain.append(time_seq)\n",
    "vel_dif_gain.append(vel_seq)\n",
    "set_dif_gain.append(vel_setpoint)\n",
    "\n",
    "\n",
    "\n"
   ]
  },
  {
   "cell_type": "code",
   "execution_count": null,
   "metadata": {},
   "outputs": [],
   "source": [
    "# plt.plot(time_seq,vel_seq)\n",
    "# plt.plot(time_seq,vel_setpoint)\n",
    "plt.plot(time_seq[100:-1],pos_seq[100:-1])\n",
    "\n",
    "plt.show()"
   ]
  },
  {
   "cell_type": "code",
   "execution_count": null,
   "metadata": {},
   "outputs": [],
   "source": [
    "\n",
    "\n",
    "check(my_drive)"
   ]
  },
  {
   "cell_type": "code",
   "execution_count": null,
   "metadata": {},
   "outputs": [],
   "source": [
    "# my_drive.save_configuration()\n",
    "check(my_drive)\n",
    "# my_drive.axis1.clear_errors()\n",
    "# check(my_drive)"
   ]
  },
  {
   "cell_type": "markdown",
   "metadata": {},
   "source": [
    "## position control\n"
   ]
  },
  {
   "cell_type": "code",
   "execution_count": null,
   "metadata": {},
   "outputs": [],
   "source": [
    "# position control\n",
    "my_drive.axis1.controller.config.control_mode = 3\n",
    "check(my_drive)"
   ]
  },
  {
   "cell_type": "code",
   "execution_count": null,
   "metadata": {},
   "outputs": [],
   "source": [
    "my_drive.axis1.controller.input_pos=1.2\n",
    "print(my_drive.axis1.controller.pos_setpoint)\n",
    "print(my_drive.axis1.encoder.pos_circular)\n"
   ]
  },
  {
   "cell_type": "code",
   "execution_count": null,
   "metadata": {},
   "outputs": [],
   "source": [
    "# step input\n",
    "time_dif_gain=[]\n",
    "pos_dif_gain=[]\n",
    "set_dif_gain=[]\n",
    "dif_pos_gain=[10,15,20,25]\n",
    "FREQUENCY=0.2\n",
    "for gain in dif_pos_gain:\n",
    "\n",
    "    pos_gain = gain\n",
    "    my_drive.axis1.controller.config.pos_gain = pos_gain\n",
    "    my_drive.axis1.controller.input_pos = 0.5\n",
    "    time.sleep(2)\n",
    "\n",
    "\n",
    "    # print(my_drive.axis1.controller.config)\n",
    "    t0=time.monotonic()\n",
    "    delta=0\n",
    "    pos_seq = [0]\n",
    "    time_seq=[0]\n",
    "    vel_seq=[0]\n",
    "    pos_setpoint=[0]\n",
    "    vel_setpoint=[0]\n",
    "    cpr=16384\n",
    "\n",
    "\n",
    "    while delta<8:\n",
    "        delta=time.monotonic()-t0\n",
    "        time_seq.append(delta)\n",
    "        pos_seq.append(my_drive.axis1.encoder.pos_circular)#range (0,1) - in turn\n",
    "        pos_setpoint.append(my_drive.axis1.controller.pos_setpoint)\n",
    "        # vel_seq.append(my_drive.axis1.encoder.vel_estimate )#unit is turns/s\n",
    "        # vel_setpoint.append(my_drive.axis1.controller.vel_setpoint)\n",
    "\n",
    "        #step input\n",
    "        # if delta>4:\n",
    "        #     my_drive.axis1.controller.input_pos=0.5\n",
    "        #     print('STEP INPUR of 180 degree position with gain={}'.format(gain))\n",
    "\n",
    "        #sin input\n",
    "        if int(delta*10000)%10==0:\n",
    "            pos=0.3*math.sin(delta*2*math.pi*FREQUENCY)+0.5\n",
    "            my_drive.axis1.controller.input_pos=pos\n",
    "            clear_output()\n",
    "            print('POSITION INPUT {} degree \\nGAIN={}'.format(pos*180/math.pi,gain))\n",
    "\n",
    "        \n",
    "\n",
    "\n",
    "    time_dif_gain.append(time_seq)\n",
    "    pos_dif_gain.append(pos_seq)\n",
    "    set_dif_gain.append(pos_setpoint)\n",
    "\n",
    "plt.plot(time_dif_gain[-1],set_dif_gain[-1],label='setpoint')\n",
    "plt.plot(time_dif_gain[-1],pos_dif_gain[-1],label='gain='+str(pos_gain))\n",
    "plt.legend()\n",
    "plt.ylabel('pos(percentage of a whole circle)')\n",
    "plt.xlabel('time(s)')\n",
    "# plt.xlim([1,3])\n",
    "# plt.ylim([0,5])\n",
    "plt.show()\n",
    "\n",
    "check(my_drive)\n"
   ]
  },
  {
   "cell_type": "code",
   "execution_count": null,
   "metadata": {},
   "outputs": [],
   "source": [
    "plt.plot(time_dif_gain[-1],set_dif_gain[-1],label='setpoint')\n",
    "for i in range(len(dif_pos_gain)):\n",
    "    plt.plot(time_dif_gain[i],pos_dif_gain[i],label='gain='+str(dif_pos_gain[i]))\n",
    "plt.legend()\n",
    "plt.ylabel('pos(turns)')\n",
    "plt.xlabel('time(s)')\n",
    "plt.xlim([3,5])\n",
    "# plt.ylim([0,1])\n",
    "plt.show()\n",
    "\n",
    "\n",
    "check(my_drive)"
   ]
  },
  {
   "cell_type": "code",
   "execution_count": null,
   "metadata": {},
   "outputs": [],
   "source": [
    "my_drive.axis1.controller.config.pos_gain = 20\n",
    "my_drive.save_configuration()"
   ]
  }
 ],
 "metadata": {
  "kernelspec": {
   "display_name": "odrive2",
   "language": "python",
   "name": "python3"
  },
  "language_info": {
   "codemirror_mode": {
    "name": "ipython",
    "version": 3
   },
   "file_extension": ".py",
   "mimetype": "text/x-python",
   "name": "python",
   "nbconvert_exporter": "python",
   "pygments_lexer": "ipython3",
   "version": "3.9.17"
  },
  "orig_nbformat": 4
 },
 "nbformat": 4,
 "nbformat_minor": 2
}
