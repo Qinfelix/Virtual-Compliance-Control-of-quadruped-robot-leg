{
 "cells": [
  {
   "cell_type": "markdown",
   "metadata": {},
   "source": [
    "Yue write the code at 2023/07/21\n",
    "\n",
    "The aim is to test the output torque and do the callibration of torque constant parameter based on spring test system\n",
    "\n",
    "The result is to discover a unkown resistance force and I spend the othe one week to just figure out everything about the unkown resistance force(proved to be cogging force)"
   ]
  },
  {
   "cell_type": "markdown",
   "metadata": {},
   "source": [
    "## connection and calibration\n"
   ]
  },
  {
   "cell_type": "code",
   "execution_count": 6,
   "metadata": {},
   "outputs": [],
   "source": [
    "import odrive\n",
    "from odrive.enums import *\n",
    "import time\n",
    "import math\n",
    "import matplotlib.pyplot as plt\n",
    "from scipy.signal import butter,filtfilt\n",
    "from termcolor import colored \n",
    "from IPython.display import clear_output\n",
    "import numpy as np\n",
    "\n",
    "def check(my_drive):\n",
    "    if my_drive.axis1.error == 0:\n",
    "        print('Everything is fine')\n",
    "    else:\n",
    "        print('Error!')\n",
    "\n",
    "\n",
    "def lowpass_filter(data,cutoff,fs,order):\n",
    "    b,a=butter(order,2*cutoff/fs,btype='low',analog=False)\n",
    "    y=filtfilt(b,a,data)\n",
    "    return y \n",
    "\n",
    "def get_torque(alpha):\n",
    "    # the length of the other side of the triangle (in m)\n",
    "    b=3.3*0.0254\n",
    "    l_ini=1.55*0.0254\n",
    "    c=0.04\n",
    "    K=106 #unit:N/m\n",
    "    a=math.sqrt(b*b+c*c-2*b*c*math.cos(alpha))\n",
    "    \n",
    "    F=K*(a-l_ini)\n",
    "    sinc=math.sin(alpha)*c/a\n",
    "    T=F*sinc*b # unit N*m\n",
    "    print('deltaL:{}mm,Force:{}N,ARM:{}mm'.format((a-l_ini)*1000,F,sinc*b*1000))\n",
    "    return T\n",
    "\n",
    "\n"
   ]
  },
  {
   "cell_type": "code",
   "execution_count": null,
   "metadata": {},
   "outputs": [
    {
     "name": "stdout",
     "output_type": "stream",
     "text": [
      "deltaL:22.953488092977313mm,Force:2.4330697378555954N,ARM:38.0400341589578mm\n"
     ]
    },
    {
     "data": {
      "text/plain": [
       "0.09255405593915335"
      ]
     },
     "execution_count": 8,
     "metadata": {},
     "output_type": "execute_result"
    }
   ],
   "source": [
    "get_torque(45/180*math.pi)"
   ]
  },
  {
   "cell_type": "code",
   "execution_count": 36,
   "metadata": {},
   "outputs": [
    {
     "name": "stdout",
     "output_type": "stream",
     "text": [
      "finding an odrive...\n",
      "Found! and the bus voltage is 21.216358184814453V\n",
      "82.6633529663086\n",
      "4.0\n"
     ]
    }
   ],
   "source": [
    "# Find a connected ODrive (this will block until you connect one)\n",
    "print(\"finding an odrive...\")\n",
    "my_drive = odrive.find_any()\n",
    "print(\"Found! and the bus voltage is \" + str(my_drive.vbus_voltage) + \"V\")\n",
    "print(my_drive.axis1.motor.current_control.i_gain)\n",
    "my_drive.axis1.motor.current_control.i_gain = 4\n",
    "print(my_drive.axis1.motor.current_control.i_gain)\n",
    "\n"
   ]
  },
  {
   "cell_type": "code",
   "execution_count": 37,
   "metadata": {},
   "outputs": [
    {
     "name": "stdout",
     "output_type": "stream",
     "text": [
      "Everything is fine\n"
     ]
    }
   ],
   "source": [
    "# calibration and enter closed control mode\n",
    "# print(\"starting calibration...\")\n",
    "# my_drive.axis1.requested_state = AXIS_STATE_FULL_CALIBRATION_SEQUENCE\n",
    "# while my_drive.axis1.current_state != AXIS_STATE_IDLE:\n",
    "#     time.sleep(0.1)\n",
    "# check(my_drive)\n",
    "# my_drive.axis1.motor.config.pre_calibrated = True\n",
    "# my_drive.axis1.encoder.config.pre_calibrated =True\n",
    "my_drive.axis1.requested_state = AXIS_STATE_CLOSED_LOOP_CONTROL\n",
    "check(my_drive)"
   ]
  },
  {
   "cell_type": "markdown",
   "metadata": {},
   "source": [
    "t0=time.monotonic()\n",
    "delta=0\n",
    "\n",
    "while delta<10:\n",
    "    delta=time.monotonic()-t0\n",
    "    print(my_drive.axis1.encoder.count_in_cpr,my_drive.axis1.encoder.pos_circular)"
   ]
  },
  {
   "cell_type": "code",
   "execution_count": 46,
   "metadata": {},
   "outputs": [
    {
     "name": "stdout",
     "output_type": "stream",
     "text": [
      "Everything is fine\n",
      "**************************************************\n"
     ]
    }
   ],
   "source": [
    "my_drive.axis1.controller.input_torque = 0\n",
    "check(my_drive)\n",
    "print('*'*50)\n"
   ]
  },
  {
   "cell_type": "markdown",
   "metadata": {},
   "source": [
    "# TEST #1:\n",
    "just add the torque after a peroid time and record the current&angle\n"
   ]
  },
  {
   "cell_type": "code",
   "execution_count": 67,
   "metadata": {},
   "outputs": [
    {
     "name": "stdout",
     "output_type": "stream",
     "text": [
      "CURRENT: 14.17  \n",
      "ANGLE: 36.82 \n",
      "INPUT: 15.00\n",
      "Everything is fine\n"
     ]
    }
   ],
   "source": [
    "t00=time.monotonic()\n",
    "t0=time.monotonic()\n",
    "\n",
    "\n",
    "cur_seq=[]\n",
    "alpha_seq=[]\n",
    "\n",
    "angle_ini=0.055*2*math.pi #unit:rad\n",
    "\n",
    "circle_num=0\n",
    "add_num=0\n",
    "sample_num=0\n",
    "\n",
    "all_cur=[]\n",
    "all_angle=[]\n",
    "all_time=[]\n",
    "all_input=[]\n",
    "\n",
    "\n",
    "dif_cur_ini=[5]\n",
    "desired_cur=dif_cur_ini[0]\n",
    "\n",
    "cur_dif_ini=[]\n",
    "angle_dif_ini=[]\n",
    "time_dif_ini=[]\n",
    "input_dif_ini=[]\n",
    "\n",
    "while True:\n",
    "\n",
    "    sample_num+=1\n",
    "    delta=time.monotonic()-t0\n",
    "    my_drive.axis1.controller.input_torque=desired_cur\n",
    "    current=my_drive.axis1.motor.current_control.Iq_measured\n",
    "    alpha=my_drive.axis1.encoder.pos_circular*2*math.pi-angle_ini\n",
    "    all_time.append(time.monotonic()-t00)\n",
    "    all_cur.append(current)\n",
    "    all_angle.append(alpha)\n",
    "    all_input.append(desired_cur)\n",
    "\n",
    "    \n",
    "    if sample_num%50==0:\n",
    "        clear_output()\n",
    "        angle=alpha*180/math.pi\n",
    "        print('CURRENT: {:.2f}  \\nANGLE: {:.2f} \\nINPUT: {:.2f}'.format(current,angle,desired_cur))\n",
    "\n",
    "\n",
    "    if delta>1:\n",
    "        t0=time.monotonic()\n",
    "        alpha_seq.append(alpha)\n",
    "        cur_seq.append(current)\n",
    "        desired_cur+=0.2\n",
    "        add_num+=1\n",
    "       \n",
    "    \n",
    "    #finish the test circle of one initial torque value\n",
    "    if add_num>50:\n",
    "        my_drive.axis1.controller.input_torque = 0\n",
    "\n",
    "        cur_dif_ini.append(all_cur)\n",
    "        angle_dif_ini.append(all_angle)\n",
    "        time_dif_ini.append(all_time)\n",
    "        input_dif_ini.append(all_input)\n",
    "        \n",
    "        add_num=0\n",
    "        circle_num+=1\n",
    "        try:\n",
    "            desired_cur=dif_cur_ini[circle_num]\n",
    "        except:\n",
    "            break\n",
    "\n",
    "        clear_output()\n",
    "        print('Finish the test circle with {} A/10 initial current'.format(dif_cur_ini[circle_num-1]))\n",
    "        print('Begin the test circle with {} A/10 initial current'.format(dif_cur_ini[circle_num]))\n",
    "        \n",
    "\n",
    "\n",
    "        all_cur=[]\n",
    "        all_angle=[]\n",
    "        all_time=[]\n",
    "        all_input=[]\n",
    "\n",
    "        time.sleep(2)\n",
    "    \n",
    "    \n",
    "\n",
    "\n",
    "\n",
    "check(my_drive)\n",
    "           "
   ]
  },
  {
   "cell_type": "code",
   "execution_count": 68,
   "metadata": {},
   "outputs": [
    {
     "name": "stdout",
     "output_type": "stream",
     "text": [
      "369.75\n"
     ]
    },
    {
     "data": {
      "image/png": "[encoded data removed]",
      "text/plain": [
       "<Figure size 640x480 with 1 Axes>"
      ]
     },
     "metadata": {},
     "output_type": "display_data"
    }
   ],
   "source": [
    "\n",
    "# alpha2=[]\n",
    "# for alpha in alpha_seq:\n",
    "#     tor_seq.append(get_torque(alpha))\n",
    "#     alpha2.append(alpha*180/math.pi)\n",
    "# plt.scatter(cur_seq,alpha2)\n",
    "# plt.show()\n",
    "\n",
    "\n",
    "all_angle_normalize=[]\n",
    "all_tor=[]\n",
    "for angle in all_angle:\n",
    "    all_angle_normalize.append(angle*180/math.pi)\n",
    "    all_tor.append(get_torque(angle)*1000)\n",
    "\n",
    "fs=len(all_time)/100\n",
    "print(fs)\n",
    "y=lowpass_filter(all_cur,3,fs,4)\n",
    "plt.plot(all_time,all_cur,label='current_measured(A/10)')\n",
    "plt.plot(all_time,y,'r',label='current_filtered(A/10)')\n",
    "plt.plot(all_time,all_angle_normalize,'b',label='angle(degree)')\n",
    "plt.plot(all_time,all_tor,'y',label='torque(N*mm)')\n",
    "\n",
    "\n",
    "\n",
    "\n",
    "plt.xlabel('time(s)')\n",
    "plt.ylim(0,70)\n",
    "plt.legend()\n",
    "plt.show()\n"
   ]
  },
  {
   "cell_type": "code",
   "execution_count": 105,
   "metadata": {},
   "outputs": [
    {
     "name": "stdout",
     "output_type": "stream",
     "text": [
      "4\n",
      "[6.000000000000001, 8.799999999999999, 9.599999999999996, 14.599999999999978] \n",
      " [33.2939637050164, 46.181614818825636, 56.22023651239336, 65.12485763890788]\n"
     ]
    },
    {
     "data": {
      "image/png": "[encoded data removed]",
      "text/plain": [
       "<Figure size 640x480 with 1 Axes>"
      ]
     },
     "metadata": {},
     "output_type": "display_data"
    }
   ],
   "source": [
    "\n",
    "valid_tor=[]\n",
    "valid_input=[]\n",
    "saltation_flag=0\n",
    "# therhold_seq=[28,36.5,48,62]\n",
    "therhold_seq=[33,46,56,65]\n",
    "\n",
    "for j in range(4):\n",
    "    therhold=therhold_seq[j]\n",
    "    for i in range(400,int(len(all_input))):\n",
    "        if all_tor[i]>therhold:\n",
    "\n",
    "            valid_tor.append(all_tor[i+1])\n",
    "            valid_input.append(all_input[i+1])\n",
    "            break\n",
    "\n",
    "    \n",
    "print(len(valid_input))\n",
    "\n",
    "print(valid_input,'\\n',valid_tor)\n",
    "\n",
    "plt.plot(all_input,all_tor)\n",
    "plt.xlabel('desired_current(A/10)')\n",
    "plt.ylabel('torque(N*mm)')\n",
    "# plt.xlim(5.9,6.2)\n",
    "# plt.ylim(25,35)\n",
    "plt.scatter(valid_input,valid_tor,color='red')\n",
    "x=np.array(valid_input)\n",
    "y=np.array(valid_tor)\n",
    "parameter = np.polyfit(x, y, 1)\n",
    "y2=parameter[0]*x+parameter[1]\n",
    "plt.plot(x,y2)\n",
    "plt.ylim(10,70)\n",
    "\n",
    "plt.show()"
   ]
  },
  {
   "cell_type": "markdown",
   "metadata": {},
   "source": [
    "\n",
    "for i in range(len(dif_cur_ini)):\n",
    "    all_tor=[]\n",
    "    angle_norm=[]\n",
    "    for angle in angle_dif_ini[i]:\n",
    "        all_tor.append(get_torque(angle)*1000)\n",
    "        angle_norm.append(angle*180/math.pi)\n",
    "    plt.plot(input_dif_ini[i],angle_norm,label='initial current= {} A/10'.format(dif_cur_ini[i]))\n",
    "plt.xlabel('desired_current(A/10)')\n",
    "plt.ylabel('angle(degree)')\n",
    "plt.ylabel('torque(N*mm)')\n",
    "plt.ylim(20,40)\n",
    "plt.legend()\n",
    "plt.show()"
   ]
  },
  {
   "cell_type": "markdown",
   "metadata": {},
   "source": [
    "# TEST#2\n",
    "\n",
    "make sure the crank is rotating very slowly to build a quati-static motion which friction is constant\n"
   ]
  },
  {
   "cell_type": "code",
   "execution_count": null,
   "metadata": {},
   "outputs": [],
   "source": [
    "t0=time.monotonic()\n",
    "print(type(t0))\n"
   ]
  },
  {
   "cell_type": "code",
   "execution_count": null,
   "metadata": {},
   "outputs": [],
   "source": [
    "# TEST #1: \n",
    "t0=time.monotonic()\n",
    "t00=t0\n",
    "\n",
    "cur_seq=[]\n",
    "current_last=0\n",
    "desired_cur=5\n",
    "stable_flag=0\n",
    "alpha_seq=[]\n",
    "angle_ini=0.055*2*math.pi #unit:rad\n",
    "\n",
    "STATIC_SPEED_LOW=0.02 #unit rad/s\n",
    "STATIC_SPEED_HIGH=0.2 #unit rad/s\n",
    "CUR_STEP=0.02\n",
    "TEST_PERIOD=10\n",
    "CUR_LIMIT=20\n",
    "\n",
    "\n",
    "all_cur=[0]\n",
    "all_time=[0]\n",
    "all_angle=[0]\n",
    "all_input=[0]\n",
    "all_vel=[]\n",
    "run_flag=0\n",
    "valid_cur=[]\n",
    "valid_alpha=[]\n",
    "\n",
    "while True:\n",
    "\n",
    "    delta=time.monotonic()-t0\n",
    "    my_drive.axis1.controller.input_torque=desired_cur\n",
    "    current=my_drive.axis1.motor.current_control.Iq_measured\n",
    "    alpha=my_drive.axis1.encoder.pos_circular*2*math.pi-angle_ini\n",
    "    vel=(alpha-all_angle[-1])*500 #frequency estimate to be 200Hz\n",
    "\n",
    "    if vel<STATIC_SPEED_LOW:\n",
    "        desired_cur+=CUR_STEP\n",
    "        run_flag=0\n",
    "\n",
    "    elif vel>STATIC_SPEED_HIGH and run_flag==0:#means the start moment \n",
    "        desired_cur=desired_cur-CUR_STEP\n",
    "        run_flag=1\n",
    "        valid_cur.append(current)\n",
    "        valid_alpha.append(alpha)\n",
    "        print('find a start moment with alpha={}'.format(alpha))\n",
    "\n",
    "    all_time.append(delta)\n",
    "    all_cur.append(current)\n",
    "    all_angle.append(alpha)\n",
    "    all_input.append(desired_cur)\n",
    "    all_vel.append(vel)\n",
    "\n",
    "    # time.sleep(0.02) #sanmple frequency= 100Hz\n",
    "\n",
    "    if delta>TEST_PERIOD or desired_cur>CUR_LIMIT:\n",
    "        break\n",
    "\n",
    "my_drive.axis1.controller.input_torque=0\n",
    "check(my_drive)\n",
    "           \n"
   ]
  },
  {
   "cell_type": "code",
   "execution_count": null,
   "metadata": {},
   "outputs": [],
   "source": [
    "print(len(valid_cur))\n",
    "plt.scatter(valid_cur,valid_alpha)\n",
    "plt.show()"
   ]
  },
  {
   "cell_type": "code",
   "execution_count": null,
   "metadata": {},
   "outputs": [],
   "source": [
    "# tor_seq=[]\n",
    "# alpha2=[]\n",
    "# for alpha in alpha_seq:\n",
    "#     tor_seq.append(get_torque(alpha))\n",
    "#     alpha2.append(alpha*180/math.pi)\n",
    "# plt.scatter(cur_seq,alpha2)\n",
    "# plt.show()\n",
    "\n",
    "\n",
    "all_angle_normalize=[]\n",
    "for angle in all_angle:\n",
    "    all_angle_normalize.append(angle*90/math.pi)\n",
    "fs=len(all_time)/TEST_PERIOD\n",
    "print(fs)\n",
    "y=lowpass_filter(all_cur,3,fs,4)\n",
    "plt.plot(all_time,all_cur,label='current_measured(A/10)')\n",
    "plt.plot(all_time,y,'r',label='current_filtered(A/10)')\n",
    "plt.plot(all_time,all_angle_normalize,'b',label='angle(degree*2)')\n",
    "plt.plot(all_time,all_input,'y',label='desired_current(A/10)')\n",
    "\n",
    "plt.xlabel('time(s)')\n",
    "# plt.ylim(0,20)\n",
    "plt.legend()\n",
    "plt.show()\n",
    "\n"
   ]
  },
  {
   "cell_type": "code",
   "execution_count": null,
   "metadata": {},
   "outputs": [],
   "source": [
    "my_drive.axis1.controller.input_torque=0\n",
    "check(my_drive)"
   ]
  },
  {
   "cell_type": "markdown",
   "metadata": {},
   "source": [
    "# TEST extra\n",
    "\n",
    "increase each add bigger to make it not be stable due to static friction torque ;\n",
    "\n",
    "and change the initial input to make the point more dense\n"
   ]
  },
  {
   "cell_type": "code",
   "execution_count": null,
   "metadata": {},
   "outputs": [],
   "source": [
    "# TEST #1: \n",
    "t0=time.monotonic()\n",
    "\n",
    "\n",
    "cur_seq=[]\n",
    "current_last=0\n",
    "desired_cur=5\n",
    "stable_flag=0\n",
    "alpha_seq=[]\n",
    "angle_ini=0.055*2*math.pi #unit:rad\n",
    "circle_num=1\n",
    "add_num=0\n",
    "\n",
    "while True:\n",
    "\n",
    "    delta=time.monotonic()-t0\n",
    "    my_drive.axis1.controller.input_torque=desired_cur\n",
    "    current=my_drive.axis1.motor.current_control.Iq_measured\n",
    "\n",
    "    if delta>3:\n",
    "        t0=time.monotonic()\n",
    "        alpha=my_drive.axis1.encoder.pos_circular*2*math.pi-angle_ini\n",
    "        alpha_seq.append(alpha)\n",
    "        cur_seq.append(current)\n",
    "        desired_cur+=2\n",
    "        add_num+=1\n",
    "        print('detecting the stable current of {} A/10, angle is {}, and next GO TO {} A/10'.format(current,alpha,desired_cur))\n",
    "    \n",
    "    if add_num>5:\n",
    "        my_drive.axis1.controller.input_torque = 0\n",
    "        print('end the {} test circle'.format(circle_num))\n",
    "        print('*'*50)\n",
    "        time.sleep(2)\n",
    "        desired_cur = 5+circle_num*0.5\n",
    "        circle_num+=1\n",
    "        add_num=0\n",
    "        t0=time.monotonic()\n",
    "\n",
    "    if circle_num>4:\n",
    "        break\n",
    "\n",
    "check(my_drive)\n",
    "           \n"
   ]
  },
  {
   "cell_type": "code",
   "execution_count": null,
   "metadata": {},
   "outputs": [],
   "source": [
    "tor_seq=[]\n",
    "for alpha in alpha_seq:\n",
    "    tor_seq.append(get_torque(alpha))\n",
    "\n",
    "plt.scatter(cur_seq,tor_seq)\n",
    "plt.show()\n",
    "# fs=len(time_seq)/8\n",
    "# cutoff=3\n",
    "# print('sample frequency is',fs)\n",
    "# y = lowpass_filter(current,cutoff,fs,4)\n",
    "\n",
    "\n",
    "# plt.plot(time_seq,y,label='measured')\n",
    "# plt.plot(time_seq,current_setpoint,label='setpoint')\n",
    "# plt.legend()\n",
    "# plt.show()\n"
   ]
  },
  {
   "cell_type": "code",
   "execution_count": null,
   "metadata": {},
   "outputs": [],
   "source": [
    "check(my_drive)"
   ]
  }
 ],
 "metadata": {
  "kernelspec": {
   "display_name": "odrive2",
   "language": "python",
   "name": "python3"
  },
  "language_info": {
   "codemirror_mode": {
    "name": "ipython",
    "version": 3
   },
   "file_extension": ".py",
   "mimetype": "text/x-python",
   "name": "python",
   "nbconvert_exporter": "python",
   "pygments_lexer": "ipython3",
   "version": "3.9.17"
  },
  "orig_nbformat": 4
 },
 "nbformat": 4,
 "nbformat_minor": 2
}
